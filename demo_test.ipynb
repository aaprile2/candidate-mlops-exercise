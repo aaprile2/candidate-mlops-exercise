{
 "cells": [
  {
   "cell_type": "markdown",
   "metadata": {},
   "source": [
    "# API Demo and Testing\n",
    "Notebook to demonstrate API use case and unit testing."
   ]
  },
  {
   "cell_type": "code",
   "execution_count": 14,
   "metadata": {},
   "outputs": [],
   "source": [
    "import requests"
   ]
  },
  {
   "cell_type": "markdown",
   "metadata": {},
   "source": [
    "### DEMO"
   ]
  },
  {
   "cell_type": "code",
   "execution_count": 31,
   "metadata": {},
   "outputs": [],
   "source": [
    "# Define URL\n",
    "url = 'http://127.0.0.1:5000/' # -> USE THIS TO TEST LOCAL APPLICATION\n",
    "#url = 'http://127.0.0.1:8080/'  # -> USE THIS TO TEST DOCKER IMAGE"
   ]
  },
  {
   "cell_type": "code",
   "execution_count": 18,
   "metadata": {},
   "outputs": [],
   "source": [
    "# Define arguments\n",
    "payload = {\n",
    "    'input': 'Hello my name [MASK] is.',\n",
    "    'model': 'bert-base-uncased'\n",
    "}\n",
    "\n",
    "# Make POST request to compute_coordinates endpoint\n",
    "resp = requests.post(url + 'inference', json = payload)\n",
    "\n",
    "# Get JSON respose\n",
    "solution = resp.json()"
   ]
  },
  {
   "cell_type": "code",
   "execution_count": 20,
   "metadata": {},
   "outputs": [
    {
     "data": {
      "text/plain": [
       "{'data': [{'score': 0.9274656772613525,\n",
       "   'token': 2009,\n",
       "   'token_str': 'it',\n",
       "   'sequence': 'hello my name it is.'},\n",
       "  {'score': 0.06313867121934891,\n",
       "   'token': 2008,\n",
       "   'token_str': 'that',\n",
       "   'sequence': 'hello my name that is.'},\n",
       "  {'score': 0.0030760576482862234,\n",
       "   'token': 2023,\n",
       "   'token_str': 'this',\n",
       "   'sequence': 'hello my name this is.'},\n",
       "  {'score': 0.0012758546508848667,\n",
       "   'token': 2428,\n",
       "   'token_str': 'really',\n",
       "   'sequence': 'hello my name really is.'},\n",
       "  {'score': 0.000878900580573827,\n",
       "   'token': 2016,\n",
       "   'token_str': 'she',\n",
       "   'sequence': 'hello my name she is.'}],\n",
       " 'inference_time': 0.10882}"
      ]
     },
     "execution_count": 20,
     "metadata": {},
     "output_type": "execute_result"
    }
   ],
   "source": [
    "solution"
   ]
  },
  {
   "cell_type": "code",
   "execution_count": 21,
   "metadata": {},
   "outputs": [],
   "source": [
    "# Make GET request to compute_coordinates endpoint\n",
    "response = requests.get(url + 'healthcheck')\n",
    "\n",
    "# Get JSON respose\n",
    "solution = response.json()"
   ]
  },
  {
   "cell_type": "code",
   "execution_count": 22,
   "metadata": {},
   "outputs": [
    {
     "data": {
      "text/plain": [
       "''"
      ]
     },
     "execution_count": 22,
     "metadata": {},
     "output_type": "execute_result"
    }
   ],
   "source": [
    "solution"
   ]
  },
  {
   "cell_type": "code",
   "execution_count": 44,
   "metadata": {},
   "outputs": [],
   "source": [
    "import requests\n",
    "#url = 'https://huggingface.co/models'\n",
    "def url_ok(url):\n",
    "    r = requests.head(url)\n",
    "    print(r)\n",
    "    return r.status_code == 200"
   ]
  },
  {
   "cell_type": "code",
   "execution_count": 45,
   "metadata": {},
   "outputs": [
    {
     "name": "stdout",
     "output_type": "stream",
     "text": [
      "<Response [201]>\n"
     ]
    },
    {
     "data": {
      "text/plain": [
       "False"
      ]
     },
     "execution_count": 45,
     "metadata": {},
     "output_type": "execute_result"
    }
   ],
   "source": [
    "url_ok(url + 'healthcheck')"
   ]
  },
  {
   "cell_type": "code",
   "execution_count": 26,
   "metadata": {},
   "outputs": [
    {
     "data": {
      "text/plain": [
       "'http://127.0.0.1:5000/'"
      ]
     },
     "execution_count": 26,
     "metadata": {},
     "output_type": "execute_result"
    }
   ],
   "source": [
    "url"
   ]
  },
  {
   "cell_type": "code",
   "execution_count": 27,
   "metadata": {},
   "outputs": [
    {
     "data": {
      "text/plain": [
       "True"
      ]
     },
     "execution_count": 27,
     "metadata": {},
     "output_type": "execute_result"
    }
   ],
   "source": [
    "url_ok(url + 'healthcheck')"
   ]
  },
  {
   "cell_type": "code",
   "execution_count": null,
   "metadata": {},
   "outputs": [],
   "source": []
  }
 ],
 "metadata": {
  "kernelspec": {
   "display_name": "Python 3.9.7 ('base')",
   "language": "python",
   "name": "python3"
  },
  "language_info": {
   "codemirror_mode": {
    "name": "ipython",
    "version": 3
   },
   "file_extension": ".py",
   "mimetype": "text/x-python",
   "name": "python",
   "nbconvert_exporter": "python",
   "pygments_lexer": "ipython3",
   "version": "3.9.7"
  },
  "orig_nbformat": 4,
  "vscode": {
   "interpreter": {
    "hash": "a66401ce498b556f5676cd9bed5368af94c884471f6de5a93d071d76c86f9fed"
   }
  }
 },
 "nbformat": 4,
 "nbformat_minor": 2
}
