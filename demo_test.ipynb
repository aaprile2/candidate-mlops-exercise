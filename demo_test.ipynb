{
 "cells": [
  {
   "cell_type": "markdown",
   "metadata": {},
   "source": [
    "# API Demo and Testing\n",
    "Notebook to demonstrate API use case and unit testing."
   ]
  },
  {
   "cell_type": "code",
   "execution_count": 1,
   "metadata": {},
   "outputs": [],
   "source": [
    "import requests\n",
    "import random\n",
    "#!pip install matplotlib\n",
    "import matplotlib.pyplot as plt"
   ]
  },
  {
   "cell_type": "code",
   "execution_count": 2,
   "metadata": {},
   "outputs": [],
   "source": [
    "# Define MODELS global variable for testing\n",
    "with open('api/resources/accepted_models.txt') as f:\n",
    "    MODELS = [line.strip() for line in f.readlines()]"
   ]
  },
  {
   "cell_type": "code",
   "execution_count": 3,
   "metadata": {},
   "outputs": [],
   "source": [
    "# Define URL\n",
    "url = 'http://127.0.0.1:5000/' # -> USE THIS TO TEST LOCAL APPLICATION\n",
    "#url = 'http://127.0.0.1:8080/'  # -> USE THIS TO TEST DOCKER IMAGE"
   ]
  },
  {
   "cell_type": "markdown",
   "metadata": {},
   "source": [
    "### /inference\n",
    "\n",
    "**POST**: Performs mask inference with given string against a HuggingFace model. Returns a list of JSON objects containing a probability score, a token string (value to fill in [MASK]), and the original string with [MASK] replaced.\n"
   ]
  },
  {
   "cell_type": "code",
   "execution_count": 4,
   "metadata": {},
   "outputs": [
    {
     "name": "stdout",
     "output_type": "stream",
     "text": [
      "{'model': 'bert-base-uncased'} :\n",
      "\t {'message': 'ValueError: input string is required.'}\n",
      "\n",
      "\n",
      "{'input': \"Hello I'm a [MASK] model.\", 'model': 'not-a-model'} :\n",
      "\t {'message': \"ValueError: model is not accepted. Please select from the following: ['bert-base-uncased', 'distilbert-base-uncased', 'roberta-base', 'roberta-large', 'xlm-roberta-base'].\"}\n",
      "\n",
      "\n",
      "{'input': \"Hello I'm a model.\", 'model': 'bert-base-uncased'} :\n",
      "\t {'message': 'ValueError: input must contain [MASK] or <mask> tokens.'}\n",
      "\n",
      "\n",
      "{'input': \"Hello I'm a [MASK] model.\", 'model': 'bert-base-uncased'} :\n",
      "\t {'data': [{'score': 0.1073109433054924, 'token': 4827, 'token_str': 'fashion', 'sequence': \"hello i'm a fashion model.\"}, {'score': 0.08774474263191223, 'token': 2535, 'token_str': 'role', 'sequence': \"hello i'm a role model.\"}, {'score': 0.05338391289114952, 'token': 2047, 'token_str': 'new', 'sequence': \"hello i'm a new model.\"}, {'score': 0.04667219892144203, 'token': 3565, 'token_str': 'super', 'sequence': \"hello i'm a super model.\"}, {'score': 0.027095891535282135, 'token': 2986, 'token_str': 'fine', 'sequence': \"hello i'm a fine model.\"}], 'inference_time': 0.18947}\n",
      "\n",
      "\n",
      "{'input': \"Hello I'm a <mask> model.\", 'model': 'bert-base-uncased'} :\n",
      "\t {'data': [{'score': 0.1073109433054924, 'token': 4827, 'token_str': 'fashion', 'sequence': \"hello i'm a fashion model.\"}, {'score': 0.08774474263191223, 'token': 2535, 'token_str': 'role', 'sequence': \"hello i'm a role model.\"}, {'score': 0.05338391289114952, 'token': 2047, 'token_str': 'new', 'sequence': \"hello i'm a new model.\"}, {'score': 0.04667219892144203, 'token': 3565, 'token_str': 'super', 'sequence': \"hello i'm a super model.\"}, {'score': 0.027095891535282135, 'token': 2986, 'token_str': 'fine', 'sequence': \"hello i'm a fine model.\"}], 'inference_time': 0.10644}\n",
      "\n",
      "\n",
      "{'input': \"Hello I'm a <mask> model.\", 'model': 'roberta-base'} :\n",
      "\t {'data': [{'score': 0.3306525945663452, 'token': 2943, 'token_str': ' male', 'sequence': \"Hello I'm a male model.\"}, {'score': 0.04655406251549721, 'token': 2182, 'token_str': ' female', 'sequence': \"Hello I'm a female model.\"}, {'score': 0.042329948395490646, 'token': 2038, 'token_str': ' professional', 'sequence': \"Hello I'm a professional model.\"}, {'score': 0.03721683472394943, 'token': 2734, 'token_str': ' fashion', 'sequence': \"Hello I'm a fashion model.\"}, {'score': 0.03253644332289696, 'token': 1083, 'token_str': ' Russian', 'sequence': \"Hello I'm a Russian model.\"}], 'inference_time': 0.09853}\n",
      "\n",
      "\n",
      "{'input': \"Hello I'm a [MASK] model.\", 'model': 'roberta-base'} :\n",
      "\t {'data': [{'score': 0.3306525945663452, 'token': 2943, 'token_str': ' male', 'sequence': \"Hello I'm a male model.\"}, {'score': 0.04655406251549721, 'token': 2182, 'token_str': ' female', 'sequence': \"Hello I'm a female model.\"}, {'score': 0.042329948395490646, 'token': 2038, 'token_str': ' professional', 'sequence': \"Hello I'm a professional model.\"}, {'score': 0.03721683472394943, 'token': 2734, 'token_str': ' fashion', 'sequence': \"Hello I'm a fashion model.\"}, {'score': 0.03253644332289696, 'token': 1083, 'token_str': ' Russian', 'sequence': \"Hello I'm a Russian model.\"}], 'inference_time': 0.10077}\n",
      "\n",
      "\n"
     ]
    }
   ],
   "source": [
    "#### Test 1: Payloads\n",
    "\n",
    "# Define payload list\n",
    "payloads = [\n",
    "    {'model': 'bert-base-uncased'},    # Expecting 500; 'input' not found in payload\n",
    "    {'input': \"Hello I'm a [MASK] model.\", 'model': 'not-a-model'}, # Expecting 500; not a valid 'model'\n",
    "    {'input': \"Hello I'm a model.\", 'model': 'bert-base-uncased'}, # Expecting 500; 'input' must contain [MASK] or <mask> token\n",
    "    {'input': \"Hello I'm a [MASK] model.\", 'model': 'bert-base-uncased'}, # Expecting 201; valid payload\n",
    "    {'input': \"Hello I'm a <mask> model.\", 'model': 'bert-base-uncased'}, # Expecting 201; valid payload (<mask> converted to [MASK])\n",
    "    {'input': \"Hello I'm a <mask> model.\", 'model': 'roberta-base'}, # Expecting 201; valid payload\n",
    "    {'input': \"Hello I'm a [MASK] model.\", 'model': 'roberta-base'}, # Expecting 201; valid payload ([MASK] converted to <mask>)\n",
    "    {'input': \"Hello I'm a [MASK] model.\"} # Expecting 201; defaults to 'bert-base-uncased'\n",
    "]\n",
    "\n",
    "# Define expected status codes\n",
    "true_status = [500, 500, 500, 201, 201, 201, 201]\n",
    "\n",
    "# Run tests\n",
    "for p, s in list(zip(payloads, true_status)):\n",
    "    # POST request\n",
    "    res = requests.post(url + 'inference', json = p)\n",
    "\n",
    "    # Assert truth\n",
    "    assert res.status_code == s\n",
    "\n",
    "    # Print json output\n",
    "    print(p, ':')\n",
    "    print('\\t', res.json())\n",
    "    print()\n",
    "    print()"
   ]
  },
  {
   "cell_type": "code",
   "execution_count": 5,
   "metadata": {},
   "outputs": [
    {
     "name": "stdout",
     "output_type": "stream",
     "text": [
      "bert-base-uncased :\n",
      "\t {'data': [{'score': 0.1073109433054924, 'token': 4827, 'token_str': 'fashion', 'sequence': \"hello i'm a fashion model.\"}, {'score': 0.08774474263191223, 'token': 2535, 'token_str': 'role', 'sequence': \"hello i'm a role model.\"}, {'score': 0.05338391289114952, 'token': 2047, 'token_str': 'new', 'sequence': \"hello i'm a new model.\"}, {'score': 0.04667219892144203, 'token': 3565, 'token_str': 'super', 'sequence': \"hello i'm a super model.\"}, {'score': 0.027095891535282135, 'token': 2986, 'token_str': 'fine', 'sequence': \"hello i'm a fine model.\"}], 'inference_time': 0.09723}\n",
      "\n",
      "\n",
      "distilbert-base-uncased :\n",
      "\t {'data': [{'score': 0.05292866751551628, 'token': 2535, 'token_str': 'role', 'sequence': \"hello i'm a role model.\"}, {'score': 0.03968580439686775, 'token': 4827, 'token_str': 'fashion', 'sequence': \"hello i'm a fashion model.\"}, {'score': 0.034743692725896835, 'token': 2449, 'token_str': 'business', 'sequence': \"hello i'm a business model.\"}, {'score': 0.03462289646267891, 'token': 2944, 'token_str': 'model', 'sequence': \"hello i'm a model model.\"}, {'score': 0.01814519241452217, 'token': 11643, 'token_str': 'modeling', 'sequence': \"hello i'm a modeling model.\"}], 'inference_time': 0.07146}\n",
      "\n",
      "\n",
      "roberta-base :\n",
      "\t {'data': [{'score': 0.3306525945663452, 'token': 2943, 'token_str': ' male', 'sequence': \"Hello I'm a male model.\"}, {'score': 0.04655406251549721, 'token': 2182, 'token_str': ' female', 'sequence': \"Hello I'm a female model.\"}, {'score': 0.042329948395490646, 'token': 2038, 'token_str': ' professional', 'sequence': \"Hello I'm a professional model.\"}, {'score': 0.03721683472394943, 'token': 2734, 'token_str': ' fashion', 'sequence': \"Hello I'm a fashion model.\"}, {'score': 0.03253644332289696, 'token': 1083, 'token_str': ' Russian', 'sequence': \"Hello I'm a Russian model.\"}], 'inference_time': 0.09326}\n",
      "\n",
      "\n",
      "roberta-large :\n",
      "\t {'data': [{'score': 0.3317379355430603, 'token': 2943, 'token_str': ' male', 'sequence': \"Hello I'm a male model.\"}, {'score': 0.14171642065048218, 'token': 2734, 'token_str': ' fashion', 'sequence': \"Hello I'm a fashion model.\"}, {'score': 0.04291744902729988, 'token': 2038, 'token_str': ' professional', 'sequence': \"Hello I'm a professional model.\"}, {'score': 0.02134804055094719, 'token': 18150, 'token_str': ' freelance', 'sequence': \"Hello I'm a freelance model.\"}, {'score': 0.021098041906952858, 'token': 664, 'token_str': ' young', 'sequence': \"Hello I'm a young model.\"}], 'inference_time': 0.24747}\n",
      "\n",
      "\n",
      "xlm-roberta-base :\n",
      "\t {'data': [{'score': 0.10563971102237701, 'token': 54543, 'token_str': 'fashion', 'sequence': \"Hello I'm a fashion model.\"}, {'score': 0.08015336096286774, 'token': 3525, 'token_str': 'new', 'sequence': \"Hello I'm a new model.\"}, {'score': 0.033413149416446686, 'token': 3299, 'token_str': 'model', 'sequence': \"Hello I'm a model model.\"}, {'score': 0.030217831954360008, 'token': 92265, 'token_str': 'French', 'sequence': \"Hello I'm a French model.\"}, {'score': 0.026436109095811844, 'token': 17473, 'token_str': 'sexy', 'sequence': \"Hello I'm a sexy model.\"}], 'inference_time': 0.27702}\n",
      "\n",
      "\n"
     ]
    },
    {
     "data": {
      "image/png": "[encoded data removed]",
      "text/plain": [
       "<Figure size 864x432 with 1 Axes>"
      ]
     },
     "metadata": {
      "needs_background": "light"
     },
     "output_type": "display_data"
    }
   ],
   "source": [
    "#### Test 2: Checking model output + 'inference_time' chart (example use case of response)\n",
    "\n",
    "# Define universal payload object\n",
    "payload = {'input': \"Hello I'm a [MASK] model.\"}\n",
    "\n",
    "# Run tests\n",
    "inf_time = dict()\n",
    "\n",
    "for m in MODELS:\n",
    "    # Update payload\n",
    "    payload['model'] = m\n",
    "\n",
    "    # Post request\n",
    "    res = requests.post(url + 'inference', json = payload)\n",
    "\n",
    "    # Assert truth\n",
    "    assert res.status_code == 201\n",
    "\n",
    "    # Collect inference time\n",
    "    inf_time[m] = res.json()['inference_time']\n",
    "\n",
    "    # Print json output\n",
    "    print(m, ':')\n",
    "    print('\\t', res.json())\n",
    "    print()\n",
    "    print()\n",
    "\n",
    "# Compare inference times between models\n",
    "plt.figure(figsize=(12,6))\n",
    "plt.bar(range(len(inf_time)), list(inf_time.values()), tick_label=list(inf_time.keys()))\n",
    "plt.title('Inference Time Comparison')\n",
    "plt.xlabel('Model')\n",
    "plt.ylabel('Inference Time (s)')\n",
    "plt.show()\n"
   ]
  },
  {
   "cell_type": "code",
   "execution_count": 6,
   "metadata": {},
   "outputs": [
    {
     "name": "stdout",
     "output_type": "stream",
     "text": [
      "[MASK] are my favorite animals! + xlm-roberta-base :\n",
      "\t {'data': [{'score': 0.5557931661605835, 'token': 11853, 'token_str': 'Here', 'sequence': 'Here are my favorite animals!'}, {'score': 0.380218505859375, 'token': 32255, 'token_str': 'These', 'sequence': 'These are my favorite animals!'}, {'score': 0.013871505856513977, 'token': 139661, 'token_str': 'Those', 'sequence': 'Those are my favorite animals!'}, {'score': 0.010785228572785854, 'token': 10660, 'token_str': 'They', 'sequence': 'They are my favorite animals!'}, {'score': 0.0057411170564591885, 'token': 6097, 'token_str': 'these', 'sequence': 'these are my favorite animals!'}], 'inference_time': 0.2106}\n",
      "\n",
      "\n",
      "Did you see <mask> at the store? + bert-base-uncased :\n",
      "\t {'data': [{'score': 0.3880321681499481, 'token': 2014, 'token_str': 'her', 'sequence': 'did you see her at the store?'}, {'score': 0.25028595328330994, 'token': 2032, 'token_str': 'him', 'sequence': 'did you see him at the store?'}, {'score': 0.0439034104347229, 'token': 2033, 'token_str': 'me', 'sequence': 'did you see me at the store?'}, {'score': 0.03836096450686455, 'token': 3087, 'token_str': 'anyone', 'sequence': 'did you see anyone at the store?'}, {'score': 0.03696787729859352, 'token': 2068, 'token_str': 'them', 'sequence': 'did you see them at the store?'}], 'inference_time': 0.09938}\n",
      "\n",
      "\n",
      "This is a very long string. It is being tested to see what the [MASK] should be. Hopefully it works! + roberta-base :\n",
      "\t {'data': [{'score': 0.2795192301273346, 'token': 5933, 'token_str': ' length', 'sequence': 'This is a very long string. It is being tested to see what the length should be. Hopefully it works!'}, {'score': 0.09524031728506088, 'token': 4195, 'token_str': ' output', 'sequence': 'This is a very long string. It is being tested to see what the output should be. Hopefully it works!'}, {'score': 0.05712612718343735, 'token': 898, 'token_str': ' result', 'sequence': 'This is a very long string. It is being tested to see what the result should be. Hopefully it works!'}, {'score': 0.038589198142290115, 'token': 1836, 'token_str': ' size', 'sequence': 'This is a very long string. It is being tested to see what the size should be. Hopefully it works!'}, {'score': 0.022174792364239693, 'token': 671, 'token_str': ' return', 'sequence': 'This is a very long string. It is being tested to see what the return should be. Hopefully it works!'}], 'inference_time': 0.13671}\n",
      "\n",
      "\n"
     ]
    }
   ],
   "source": [
    "#### Test 3: Checking other random strings for inference output\n",
    "\n",
    "# Define 'random' input \n",
    "rand_input = ['[MASK] are my favorite animals!', 'Did you see <mask> at the store?', 'This is a very long string. It is being tested to see what the [MASK] should be. Hopefully it works!']\n",
    "\n",
    "# Define 'random' models\n",
    "rand_models = random.sample(MODELS, len(rand_input))\n",
    "\n",
    "# Run tests\n",
    "for i, m in list(zip(rand_input, rand_models)):\n",
    "    # Define payload object\n",
    "    payload = {'input': i, 'model': m}\n",
    "\n",
    "    # POST request\n",
    "    res = requests.post(url + 'inference', json = payload)\n",
    "\n",
    "    # Assert truth\n",
    "    assert res.status_code == 201\n",
    "\n",
    "    # Print json output\n",
    "    print(i, '+', m, ':')\n",
    "    print('\\t', res.json())\n",
    "    print()\n",
    "    print()"
   ]
  },
  {
   "cell_type": "markdown",
   "metadata": {},
   "source": [
    "### /inference/models\n",
    "\n",
    "**GET**: Lists the HuggingFace inference models (formatted as expected in the POST payload) currently supported by the API, as outlined in **api/resources/accepted_models.txt**."
   ]
  },
  {
   "cell_type": "code",
   "execution_count": 7,
   "metadata": {},
   "outputs": [
    {
     "name": "stdout",
     "output_type": "stream",
     "text": [
      "Response: {'models': ['bert-base-uncased', 'distilbert-base-uncased', 'roberta-base', 'roberta-large', 'xlm-roberta-base']}\n",
      "\n",
      "Models List: ['bert-base-uncased', 'distilbert-base-uncased', 'roberta-base', 'roberta-large', 'xlm-roberta-base']\n"
     ]
    }
   ],
   "source": [
    "# Test 1: inference/models endpoint with GET request\n",
    "res = requests.get(url + 'inference/models')\n",
    "\n",
    "# Assert truth\n",
    "assert res.status_code == 200\n",
    "\n",
    "# Print JSON response\n",
    "print('Response:', res.json())\n",
    "\n",
    "# Compare against models\n",
    "print()\n",
    "print('Models List:', MODELS)"
   ]
  },
  {
   "cell_type": "markdown",
   "metadata": {},
   "source": [
    "### /healthcheck\n",
    "\n",
    "**GET**: Basic check to see if API is functioning. Returns a HTTP 200.\n",
    "(Also supports **HEAD** request.)"
   ]
  },
  {
   "cell_type": "code",
   "execution_count": 8,
   "metadata": {},
   "outputs": [
    {
     "name": "stdout",
     "output_type": "stream",
     "text": [
      "HEALTHY\n"
     ]
    }
   ],
   "source": [
    "#### Test 1: Validating healthcheck output\n",
    "\n",
    "# GET request\n",
    "get_res = requests.get(url + 'healthcheck')\n",
    "assert get_res.status_code == 200\n",
    "print(get_res.json())\n",
    "\n",
    "# HEAD request\n",
    "head_res = requests.head(url + 'healthcheck')\n",
    "assert head_res.status_code == 200"
   ]
  },
  {
   "cell_type": "markdown",
   "metadata": {},
   "source": [
    "### /healthcheck/extracheck\n",
    "\n",
    "**GET**: Extra check to see if HuggingFace models download page is functioning. Returns a HTTP 200 if healthy and HTTP 404 if unhealthy. (Also supports **HEAD** request.)"
   ]
  },
  {
   "cell_type": "code",
   "execution_count": 9,
   "metadata": {},
   "outputs": [
    {
     "name": "stdout",
     "output_type": "stream",
     "text": [
      "HEALTHY\n"
     ]
    }
   ],
   "source": [
    "#### Test 1: Validating healthcheck/extracheck output\n",
    "\n",
    "# GET request\n",
    "get_res = requests.get(url + 'healthcheck/extracheck')\n",
    "assert get_res.status_code == 200\n",
    "print(get_res.json())\n",
    "\n",
    "# HEAD request\n",
    "head_res = requests.head(url + 'healthcheck/extracheck')\n",
    "assert head_res.status_code == 200"
   ]
  }
 ],
 "metadata": {
  "kernelspec": {
   "display_name": "Python 3.9.7 ('base')",
   "language": "python",
   "name": "python3"
  },
  "language_info": {
   "codemirror_mode": {
    "name": "ipython",
    "version": 3
   },
   "file_extension": ".py",
   "mimetype": "text/x-python",
   "name": "python",
   "nbconvert_exporter": "python",
   "pygments_lexer": "ipython3",
   "version": "3.9.7"
  },
  "orig_nbformat": 4,
  "vscode": {
   "interpreter": {
    "hash": "a66401ce498b556f5676cd9bed5368af94c884471f6de5a93d071d76c86f9fed"
   }
  }
 },
 "nbformat": 4,
 "nbformat_minor": 2
}
