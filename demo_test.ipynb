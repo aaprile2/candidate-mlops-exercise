{
 "cells": [
  {
   "cell_type": "markdown",
   "metadata": {},
   "source": [
    "# API Demo and Testing\n",
    "Notebook to demonstrate API use case and unit testing."
   ]
  },
  {
   "cell_type": "code",
   "execution_count": null,
   "metadata": {},
   "outputs": [],
   "source": [
    "import requests\n",
    "import random\n",
    "#!pip install matplotlib\n",
    "import matplotlib.pyplot as plt"
   ]
  },
  {
   "cell_type": "code",
   "execution_count": 6,
   "metadata": {},
   "outputs": [],
   "source": [
    "# Define MODELS global variable for testing\n",
    "with open('api/resources/accepted_models.txt') as f:\n",
    "    MODELS = [line.strip() for line in f.readlines()]"
   ]
  },
  {
   "cell_type": "code",
   "execution_count": 7,
   "metadata": {},
   "outputs": [],
   "source": [
    "# Define URL\n",
    "#url = 'http://127.0.0.1:5000/' # -> USE THIS TO TEST LOCAL APPLICATION\n",
    "url = 'http://127.0.0.1:8080/'  # -> USE THIS TO TEST DOCKER IMAGE"
   ]
  },
  {
   "cell_type": "markdown",
   "metadata": {},
   "source": [
    "### /inference\n",
    "\n",
    "**POST**: Performs mask inference with given string against a HuggingFace model. Returns a list of JSON objects containing a probability score, a token string (value to fill in [MASK]), and the original string with [MASK] replaced.\n"
   ]
  },
  {
   "cell_type": "code",
   "execution_count": 8,
   "metadata": {},
   "outputs": [
    {
     "name": "stdout",
     "output_type": "stream",
     "text": [
      "{'model': 'bert-base-uncased'} :\n",
      "\t {'message': 'ValueError: input string is required.'}\n",
      "\n",
      "\n",
      "{'input': \"Hello I'm a [MASK] model.\", 'model': 'not-a-model'} :\n",
      "\t {'message': \"ValueError: model is not accepted. Please select from the following: ['bert-base-uncased', 'distilbert-base-uncased', 'roberta-base', 'roberta-large', 'xlm-roberta-base'].\"}\n",
      "\n",
      "\n",
      "{'input': \"Hello I'm a model.\", 'model': 'bert-base-uncased'} :\n",
      "\t {'message': 'ValueError: input must contain [MASK] or <mask> tokens.'}\n",
      "\n",
      "\n",
      "{'input': \"Hello I'm a [MASK] model.\", 'model': 'bert-base-uncased'} :\n",
      "\t {'data': [{'score': 0.10731087625026703, 'token': 4827, 'token_str': 'fashion', 'sequence': \"hello i'm a fashion model.\"}, {'score': 0.08774493634700775, 'token': 2535, 'token_str': 'role', 'sequence': \"hello i'm a role model.\"}, {'score': 0.05338375270366669, 'token': 2047, 'token_str': 'new', 'sequence': \"hello i'm a new model.\"}, {'score': 0.046672236174345016, 'token': 3565, 'token_str': 'super', 'sequence': \"hello i'm a super model.\"}, {'score': 0.027095822617411613, 'token': 2986, 'token_str': 'fine', 'sequence': \"hello i'm a fine model.\"}], 'inference_time': 0.17247}\n",
      "\n",
      "\n",
      "{'input': \"Hello I'm a <mask> model.\", 'model': 'bert-base-uncased'} :\n",
      "\t {'data': [{'score': 0.10731087625026703, 'token': 4827, 'token_str': 'fashion', 'sequence': \"hello i'm a fashion model.\"}, {'score': 0.08774493634700775, 'token': 2535, 'token_str': 'role', 'sequence': \"hello i'm a role model.\"}, {'score': 0.05338375270366669, 'token': 2047, 'token_str': 'new', 'sequence': \"hello i'm a new model.\"}, {'score': 0.046672236174345016, 'token': 3565, 'token_str': 'super', 'sequence': \"hello i'm a super model.\"}, {'score': 0.027095822617411613, 'token': 2986, 'token_str': 'fine', 'sequence': \"hello i'm a fine model.\"}], 'inference_time': 0.05194}\n",
      "\n",
      "\n",
      "{'input': \"Hello I'm a <mask> model.\", 'model': 'roberta-base'} :\n",
      "\t {'data': [{'score': 0.3306529223918915, 'token': 2943, 'token_str': ' male', 'sequence': \"Hello I'm a male model.\"}, {'score': 0.04655393213033676, 'token': 2182, 'token_str': ' female', 'sequence': \"Hello I'm a female model.\"}, {'score': 0.04233003035187721, 'token': 2038, 'token_str': ' professional', 'sequence': \"Hello I'm a professional model.\"}, {'score': 0.03721676394343376, 'token': 2734, 'token_str': ' fashion', 'sequence': \"Hello I'm a fashion model.\"}, {'score': 0.03253666311502457, 'token': 1083, 'token_str': ' Russian', 'sequence': \"Hello I'm a Russian model.\"}], 'inference_time': 0.05242}\n",
      "\n",
      "\n",
      "{'input': \"Hello I'm a [MASK] model.\", 'model': 'roberta-base'} :\n",
      "\t {'data': [{'score': 0.3306529223918915, 'token': 2943, 'token_str': ' male', 'sequence': \"Hello I'm a male model.\"}, {'score': 0.04655393213033676, 'token': 2182, 'token_str': ' female', 'sequence': \"Hello I'm a female model.\"}, {'score': 0.04233003035187721, 'token': 2038, 'token_str': ' professional', 'sequence': \"Hello I'm a professional model.\"}, {'score': 0.03721676394343376, 'token': 2734, 'token_str': ' fashion', 'sequence': \"Hello I'm a fashion model.\"}, {'score': 0.03253666311502457, 'token': 1083, 'token_str': ' Russian', 'sequence': \"Hello I'm a Russian model.\"}], 'inference_time': 0.0596}\n",
      "\n",
      "\n"
     ]
    }
   ],
   "source": [
    "#### Test 1: Payloads\n",
    "\n",
    "# Define payload list\n",
    "payloads = [\n",
    "    {'model': 'bert-base-uncased'},    # Expecting 500; 'input' not found in payload\n",
    "    {'input': \"Hello I'm a [MASK] model.\", 'model': 'not-a-model'}, # Expecting 500; not a valid 'model'\n",
    "    {'input': \"Hello I'm a model.\", 'model': 'bert-base-uncased'}, # Expecting 500; 'input' must contain [MASK] or <mask> token\n",
    "    {'input': \"Hello I'm a [MASK] model.\", 'model': 'bert-base-uncased'}, # Expecting 201; valid payload\n",
    "    {'input': \"Hello I'm a <mask> model.\", 'model': 'bert-base-uncased'}, # Expecting 201; valid payload (<mask> converted to [MASK])\n",
    "    {'input': \"Hello I'm a <mask> model.\", 'model': 'roberta-base'}, # Expecting 201; valid payload\n",
    "    {'input': \"Hello I'm a [MASK] model.\", 'model': 'roberta-base'}, # Expecting 201; valid payload ([MASK] converted to <mask>)\n",
    "    {'input': \"Hello I'm a [MASK] model.\"} # Expecting 201; defaults to 'bert-base-uncased'\n",
    "]\n",
    "\n",
    "# Define expected status codes\n",
    "true_status = [500, 500, 500, 201, 201, 201, 201]\n",
    "\n",
    "# Run tests\n",
    "for p, s in list(zip(payloads, true_status)):\n",
    "    # POST request\n",
    "    res = requests.post(url + 'inference', json = p)\n",
    "\n",
    "    # Assert truth\n",
    "    assert res.status_code == s\n",
    "\n",
    "    # Print json output\n",
    "    print(p, ':')\n",
    "    print('\\t', res.json())\n",
    "    print()\n",
    "    print()"
   ]
  },
  {
   "cell_type": "code",
   "execution_count": 12,
   "metadata": {},
   "outputs": [
    {
     "name": "stdout",
     "output_type": "stream",
     "text": [
      "bert-base-uncased :\n",
      "\t {'data': [{'score': 0.10731087625026703, 'token': 4827, 'token_str': 'fashion', 'sequence': \"hello i'm a fashion model.\"}, {'score': 0.08774493634700775, 'token': 2535, 'token_str': 'role', 'sequence': \"hello i'm a role model.\"}, {'score': 0.05338375270366669, 'token': 2047, 'token_str': 'new', 'sequence': \"hello i'm a new model.\"}, {'score': 0.046672236174345016, 'token': 3565, 'token_str': 'super', 'sequence': \"hello i'm a super model.\"}, {'score': 0.027095822617411613, 'token': 2986, 'token_str': 'fine', 'sequence': \"hello i'm a fine model.\"}], 'inference_time': 0.16192}\n",
      "\n",
      "\n",
      "distilbert-base-uncased :\n",
      "\t {'data': [{'score': 0.052928581833839417, 'token': 2535, 'token_str': 'role', 'sequence': \"hello i'm a role model.\"}, {'score': 0.03968587517738342, 'token': 4827, 'token_str': 'fashion', 'sequence': \"hello i'm a fashion model.\"}, {'score': 0.03474365547299385, 'token': 2449, 'token_str': 'business', 'sequence': \"hello i'm a business model.\"}, {'score': 0.034623004496097565, 'token': 2944, 'token_str': 'model', 'sequence': \"hello i'm a model model.\"}, {'score': 0.018145214766263962, 'token': 11643, 'token_str': 'modeling', 'sequence': \"hello i'm a modeling model.\"}], 'inference_time': 0.03502}\n",
      "\n",
      "\n",
      "roberta-base :\n",
      "\t {'data': [{'score': 0.3306529223918915, 'token': 2943, 'token_str': ' male', 'sequence': \"Hello I'm a male model.\"}, {'score': 0.04655393213033676, 'token': 2182, 'token_str': ' female', 'sequence': \"Hello I'm a female model.\"}, {'score': 0.04233003035187721, 'token': 2038, 'token_str': ' professional', 'sequence': \"Hello I'm a professional model.\"}, {'score': 0.03721676394343376, 'token': 2734, 'token_str': ' fashion', 'sequence': \"Hello I'm a fashion model.\"}, {'score': 0.03253666311502457, 'token': 1083, 'token_str': ' Russian', 'sequence': \"Hello I'm a Russian model.\"}], 'inference_time': 0.06157}\n",
      "\n",
      "\n",
      "xlm-roberta-base not available at the moment.\n"
     ]
    },
    {
     "data": {
      "image/png": "[encoded data removed]",
      "text/plain": [
       "<Figure size 864x432 with 1 Axes>"
      ]
     },
     "metadata": {
      "needs_background": "light"
     },
     "output_type": "display_data"
    }
   ],
   "source": [
    "#### Test 2: Checking model output + 'inference_time' chart (example use case of response)\n",
    "\n",
    "# Define universal payload object\n",
    "payload = {'input': \"Hello I'm a [MASK] model.\"}\n",
    "\n",
    "# Run tests\n",
    "inf_time = dict()\n",
    "\n",
    "for m in MODELS:\n",
    "    if m != 'roberta-large':  # Experienced some connection issues\n",
    "        try:\n",
    "            # Update payload\n",
    "            payload['model'] = m\n",
    "\n",
    "            # Post request\n",
    "            res = requests.post(url + 'inference', json = payload)\n",
    "\n",
    "            # Assert truth\n",
    "            assert res.status_code == 201\n",
    "\n",
    "            # Collect inference time\n",
    "            inf_time[m] = res.json()['inference_time']\n",
    "\n",
    "            # Print json output\n",
    "            print(m, ':')\n",
    "            print('\\t', res.json())\n",
    "            print()\n",
    "            print()\n",
    "        except:\n",
    "            print(m, 'not available at the moment.')\n",
    "\n",
    "# Compare inference times between models\n",
    "plt.figure(figsize=(12,6))\n",
    "plt.bar(range(len(inf_time)), list(inf_time.values()), tick_label=list(inf_time.keys()))\n",
    "plt.title('Inference Time Comparison')\n",
    "plt.xlabel('Model')\n",
    "plt.ylabel('Inference Time (s)')\n",
    "plt.show()\n"
   ]
  },
  {
   "cell_type": "code",
   "execution_count": 16,
   "metadata": {},
   "outputs": [
    {
     "name": "stdout",
     "output_type": "stream",
     "text": [
      "[MASK] are my favorite animals! + distilbert-base-uncased :\n",
      "\t {'data': [{'score': 0.5758854746818542, 'token': 2122, 'token_str': 'these', 'sequence': 'these are my favorite animals!'}, {'score': 0.044400956481695175, 'token': 2027, 'token_str': 'they', 'sequence': 'they are my favorite animals!'}, {'score': 0.027573466300964355, 'token': 8870, 'token_str': 'cats', 'sequence': 'cats are my favorite animals!'}, {'score': 0.025463862344622612, 'token': 2017, 'token_str': 'you', 'sequence': 'you are my favorite animals!'}, {'score': 0.025326590985059738, 'token': 2057, 'token_str': 'we', 'sequence': 'we are my favorite animals!'}], 'inference_time': 0.13513}\n",
      "\n",
      "\n",
      "Did you see <mask> at the store? + roberta-base :\n",
      "\t {'data': [{'score': 0.3986685872077942, 'token': 123, 'token_str': ' him', 'sequence': 'Did you see him at the store?'}, {'score': 0.13045206665992737, 'token': 106, 'token_str': ' them', 'sequence': 'Did you see them at the store?'}, {'score': 0.06444765627384186, 'token': 1268, 'token_str': ' anyone', 'sequence': 'Did you see anyone at the store?'}, {'score': 0.0625990480184555, 'token': 69, 'token_str': ' her', 'sequence': 'Did you see her at the store?'}, {'score': 0.03721534088253975, 'token': 24, 'token_str': ' it', 'sequence': 'Did you see it at the store?'}], 'inference_time': 0.06634}\n",
      "\n",
      "\n",
      "This is a very long string. It is being tested to see what the [MASK] should be. Hopefully it works! + bert-base-uncased :\n",
      "\t {'data': [{'score': 0.15147830545902252, 'token': 3466, 'token_str': 'effect', 'sequence': 'this is a very long string. it is being tested to see what the effect should be. hopefully it works!'}, {'score': 0.03765382617712021, 'token': 2765, 'token_str': 'result', 'sequence': 'this is a very long string. it is being tested to see what the result should be. hopefully it works!'}, {'score': 0.03371911495923996, 'token': 4338, 'token_str': 'shape', 'sequence': 'this is a very long string. it is being tested to see what the shape should be. hopefully it works!'}, {'score': 0.017382673919200897, 'token': 2640, 'token_str': 'design', 'sequence': 'this is a very long string. it is being tested to see what the design should be. hopefully it works!'}, {'score': 0.015905674546957016, 'token': 3145, 'token_str': 'key', 'sequence': 'this is a very long string. it is being tested to see what the key should be. hopefully it works!'}], 'inference_time': 0.05927}\n",
      "\n",
      "\n"
     ]
    }
   ],
   "source": [
    "#### Test 3: Checking other random strings for inference output\n",
    "\n",
    "# Define 'random' input \n",
    "rand_input = ['[MASK] are my favorite animals!', 'Did you see <mask> at the store?', 'This is a very long string. It is being tested to see what the [MASK] should be. Hopefully it works!']\n",
    "\n",
    "# Define 'random' models\n",
    "rand_models = random.sample(['bert-base-uncased', 'distilbert-base-uncased', 'roberta-base'], len(rand_input)) # Connection ssues with roberta-large and xlm-roberta-base\n",
    "\n",
    "# Run tests\n",
    "for i, m in list(zip(rand_input, rand_models)):\n",
    "    # Define payload object\n",
    "    payload = {'input': i, 'model': m}\n",
    "\n",
    "    # POST request\n",
    "    res = requests.post(url + 'inference', json = payload)\n",
    "\n",
    "    # Assert truth\n",
    "    assert res.status_code == 201\n",
    "\n",
    "    # Print json output\n",
    "    print(i, '+', m, ':')\n",
    "    print('\\t', res.json())\n",
    "    print()\n",
    "    print()"
   ]
  },
  {
   "cell_type": "markdown",
   "metadata": {},
   "source": [
    "### /inference/models\n",
    "\n",
    "**GET**: Lists the HuggingFace inference models (formatted as expected in the POST payload) currently supported by the API, as outlined in **api/resources/accepted_models.txt**."
   ]
  },
  {
   "cell_type": "code",
   "execution_count": 17,
   "metadata": {},
   "outputs": [
    {
     "name": "stdout",
     "output_type": "stream",
     "text": [
      "Response: {'models': ['bert-base-uncased', 'distilbert-base-uncased', 'roberta-base', 'roberta-large', 'xlm-roberta-base']}\n",
      "\n",
      "Models List: ['bert-base-uncased', 'distilbert-base-uncased', 'roberta-base', 'roberta-large', 'xlm-roberta-base']\n"
     ]
    }
   ],
   "source": [
    "# Test 1: inference/models endpoint with GET request\n",
    "res = requests.get(url + 'inference/models')\n",
    "\n",
    "# Assert truth\n",
    "assert res.status_code == 200\n",
    "\n",
    "# Print JSON response\n",
    "print('Response:', res.json())\n",
    "\n",
    "# Compare against models\n",
    "print()\n",
    "print('Models List:', MODELS)"
   ]
  },
  {
   "cell_type": "markdown",
   "metadata": {},
   "source": [
    "### /healthcheck\n",
    "\n",
    "**GET**: Basic check to see if API is functioning. Returns a HTTP 200.\n",
    "(Also supports **HEAD** request.)"
   ]
  },
  {
   "cell_type": "code",
   "execution_count": 18,
   "metadata": {},
   "outputs": [
    {
     "name": "stdout",
     "output_type": "stream",
     "text": [
      "HEALTHY\n"
     ]
    }
   ],
   "source": [
    "#### Test 1: Validating healthcheck output\n",
    "\n",
    "# GET request\n",
    "get_res = requests.get(url + 'healthcheck')\n",
    "assert get_res.status_code == 200\n",
    "print(get_res.json())\n",
    "\n",
    "# HEAD request\n",
    "head_res = requests.head(url + 'healthcheck')\n",
    "assert head_res.status_code == 200"
   ]
  },
  {
   "cell_type": "markdown",
   "metadata": {},
   "source": [
    "### /healthcheck/extracheck\n",
    "\n",
    "**GET**: Extra check to see if HuggingFace models download page is functioning. Returns a HTTP 200 if healthy and HTTP 404 if unhealthy. (Also supports **HEAD** request.)"
   ]
  },
  {
   "cell_type": "code",
   "execution_count": 19,
   "metadata": {},
   "outputs": [
    {
     "name": "stdout",
     "output_type": "stream",
     "text": [
      "HEALTHY\n"
     ]
    }
   ],
   "source": [
    "#### Test 1: Validating healthcheck/extracheck output\n",
    "\n",
    "# GET request\n",
    "get_res = requests.get(url + 'healthcheck/extracheck')\n",
    "assert get_res.status_code == 200\n",
    "print(get_res.json())\n",
    "\n",
    "# HEAD request\n",
    "head_res = requests.head(url + 'healthcheck/extracheck')\n",
    "assert head_res.status_code == 200"
   ]
  }
 ],
 "metadata": {
  "kernelspec": {
   "display_name": "Python 3.9.7 ('base')",
   "language": "python",
   "name": "python3"
  },
  "language_info": {
   "codemirror_mode": {
    "name": "ipython",
    "version": 3
   },
   "file_extension": ".py",
   "mimetype": "text/x-python",
   "name": "python",
   "nbconvert_exporter": "python",
   "pygments_lexer": "ipython3",
   "version": "3.9.7"
  },
  "orig_nbformat": 4,
  "vscode": {
   "interpreter": {
    "hash": "a66401ce498b556f5676cd9bed5368af94c884471f6de5a93d071d76c86f9fed"
   }
  }
 },
 "nbformat": 4,
 "nbformat_minor": 2
}
